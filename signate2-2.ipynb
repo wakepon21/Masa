{
  "nbformat": 4,
  "nbformat_minor": 0,
  "metadata": {
    "colab": {
      "name": "signate2",
      "provenance": [],
      "private_outputs": true,
      "collapsed_sections": [],
      "authorship_tag": "ABX9TyNEyt1f0Wkked9c0Wgk8/AR",
      "include_colab_link": true
    },
    "kernelspec": {
      "name": "python3",
      "display_name": "Python 3"
    },
    "accelerator": "GPU"
  },
  "cells": [
    {
      "cell_type": "markdown",
      "metadata": {
        "id": "view-in-github",
        "colab_type": "text"
      },
      "source": [
        "<a href=\"https://colab.research.google.com/github/wakepon21/Masa/blob/Signate2/signate2-2.ipynb\" target=\"_parent\"><img src=\"https://colab.research.google.com/assets/colab-badge.svg\" alt=\"Open In Colab\"/></a>"
      ]
    },
    {
      "cell_type": "code",
      "metadata": {
        "id": "LD26aoVdOKEk",
        "colab_type": "code",
        "colab": {}
      },
      "source": [
        "#importまとめ。pandas-profilingは少々導入が面倒\n",
        "#!pip install git+https://github.com/pandas-profiling/pandas-profiling.git\n",
        "import pandas as pd\n",
        "import numpy as np\n",
        "import matplotlib.pyplot as plt\n",
        "import warnings\n",
        "#import pandas_profiling\n",
        "import seaborn as sns\n",
        "#from pandas_profiling.utils.cache import cache_file\n",
        "%matplotlib inline\n",
        "\n",
        "# Dataset\n",
        "from sklearn.datasets import make_classification\n",
        "from sklearn.model_selection import StratifiedKFold\n",
        "from sklearn.model_selection import StratifiedShuffleSplit\n",
        "from sklearn.model_selection import train_test_split\n",
        "\n",
        "# Imbalanced-learn\n",
        "from imblearn.under_sampling import RandomUnderSampler\n",
        "\n",
        "#random\n",
        "import random\n",
        "\n",
        "# LightGBM\n",
        "import lightgbm as lgb\n",
        "from sklearn.metrics import roc_auc_score\n",
        "from sklearn.metrics import mean_squared_error\n",
        "\n",
        "#Optuna\n",
        "!pip install optuna\n",
        "import optuna\n",
        "from sklearn.metrics import log_loss\n",
        "\n",
        "warnings.filterwarnings('ignore')"
      ],
      "execution_count": null,
      "outputs": []
    },
    {
      "cell_type": "code",
      "metadata": {
        "id": "J1tmdARMbNRs",
        "colab_type": "code",
        "colab": {}
      },
      "source": [
        "from sklearn import preprocessing\n",
        "from sklearn.preprocessing import OrdinalEncoder\n",
        "\n",
        "oe = preprocessing.OrdinalEncoder()"
      ],
      "execution_count": null,
      "outputs": []
    },
    {
      "cell_type": "code",
      "metadata": {
        "id": "Jw4TmFfKx2SL",
        "colab_type": "code",
        "colab": {}
      },
      "source": [
        "#train,test,submit_sampleのみっつがそろっているか確認\n",
        "!ls"
      ],
      "execution_count": null,
      "outputs": []
    },
    {
      "cell_type": "code",
      "metadata": {
        "id": "LHdnUDx0ufsI",
        "colab_type": "code",
        "colab": {}
      },
      "source": [
        "#そろっていなかったら選択\n",
        "from google.colab import files\n",
        "train_up = files.upload()"
      ],
      "execution_count": null,
      "outputs": []
    },
    {
      "cell_type": "code",
      "metadata": {
        "id": "Keog0n_Hufxd",
        "colab_type": "code",
        "colab": {}
      },
      "source": [
        "!ls"
      ],
      "execution_count": null,
      "outputs": []
    },
    {
      "cell_type": "code",
      "metadata": {
        "id": "whr3gGUkbyLH",
        "colab_type": "code",
        "colab": {}
      },
      "source": [
        "sub_base = pd.read_csv(\"sample_submit.csv\",names=(\"A\",\"B\"))\n",
        "test_base = pd.read_csv(\"test.csv\")\n",
        "train_base = pd.read_csv(\"train.csv\")\n",
        "data_base = pd.concat([train_base,test_base], sort=False)\n",
        "#EDA:整理\n",
        "\n",
        "\n",
        "#追加\n",
        "Age_feature=21,22,23,27,29,30,40,45,46,51,54,66,69,72,74,75\n",
        "#df['D'] = df['A'].where(df['C'] == 'a', df['B'])\n",
        "#data_base[\"Age_1\"]=(data_base[\"Age\"] any Age_feature).astype(int)\n",
        "data_base[\"T_Bil_1\"]=(data_base[\"T_Bil\"] > 0.2).astype(int)\n",
        "data_base[\"D_Bil_1\"]=(data_base[\"D_Bil\"] > 0.2).astype(int)\n",
        "data_base['ALP']=(data_base['ALP'] > 700).astype(int)\n",
        "data_base['ALT_GPT_1']=(data_base['ALT_GPT'] > 40).astype(int)\n",
        "data_base['AST_GOT_1']=(data_base['AST_GOT'] > 20).astype(int)\n",
        "data_base[\"TP_1\"]=((data_base[\"TP\"] > 6.1) & (data_base[\"TP\"] < 7.1)).astype(int)\n",
        "data_base[\"Alb_1\"]=((data_base[\"Alb\"] > 2.6) & (data_base[\"Alb\"] < 3.2)).astype(int)\n",
        "data_base[\"AG_ratio_1\"]=((data_base[\"AG_ratio\"] > 1.0) | ((data_base[\"AG_ratio\"] > 1.1) & (data_base[\"AG_ratio\"] < 1.3))).astype(int)\n",
        "#削除\n",
        "delete_columns = []\n",
        "\n",
        "data_dropped=data_base.drop(delete_columns, axis=1)\n",
        "\n",
        "\n",
        "\n",
        "#カテゴリ化\n",
        "categorical_features = [\"Gender\"]\n",
        "encoded = oe.fit_transform(data_dropped[categorical_features].values)\n",
        "data_dropped[categorical_features] = encoded\n",
        "data_dropped[categorical_features] = data_dropped[categorical_features].astype('category')\n",
        "#decoded = oe.inverse_transform(encoded)\n",
        "\n",
        "\n",
        "\n",
        "#trainとtestを再度切り分け\n",
        "train = data_dropped[:len(train_base)]\n",
        "test = data_dropped[len(train_base):]\n",
        "\n",
        "#train,testを、さらに説明変数Xと、予測変数yに切り分け。y_testは与えられていないのでなし。三種類がでる\n",
        "y = train['disease']\n",
        "X = train.drop('disease', axis = 1)\n",
        "X_sub = test.copy().drop('disease', axis = 1)\n",
        "\n",
        "#LightGBMのデータ分割\n",
        "X_train_LGB, X_test_LGB, y_train_LGB, y_test_LGB = train_test_split(X, y, test_size=0.2, random_state=0)\n",
        "X_train2_LGB, X_valid_LGB, y_train2_LGB, y_valid_LGB = train_test_split(X, y, test_size=0.2, random_state=1)"
      ],
      "execution_count": null,
      "outputs": []
    },
    {
      "cell_type": "code",
      "metadata": {
        "id": "p4OZZmGpyIti",
        "colab_type": "code",
        "colab": {}
      },
      "source": [
        "X.head()"
      ],
      "execution_count": null,
      "outputs": []
    },
    {
      "cell_type": "code",
      "metadata": {
        "id": "Ves2MqiLw0eK",
        "colab_type": "code",
        "colab": {}
      },
      "source": [
        "data_dropped"
      ],
      "execution_count": null,
      "outputs": []
    },
    {
      "cell_type": "code",
      "metadata": {
        "id": "4EApyTnDaUh1",
        "colab_type": "code",
        "colab": {}
      },
      "source": [
        "def lgbm_train(X_train_df, X_valid_df, y_train_df, y_valid_df, lgbm_params):\n",
        "    lgb_train = lgb.Dataset(X_train_df, y_train_df)\n",
        "    lgb_eval = lgb.Dataset(X_valid_df, y_valid_df, reference=lgb_train)\n",
        "\n",
        "    # 上記のパラメータでモデルを学習する\n",
        "    model = lgb.train(lgbm_params, lgb_train,\n",
        "                      # モデルの評価用データを渡す\n",
        "                      valid_sets=lgb_eval,\n",
        "                      # 最大で 1000 ラウンドまで学習する\n",
        "                      num_boost_round=1000,\n",
        "                      # 10 ラウンド経過しても性能が向上しないときは学習を打ち切る\n",
        "                      early_stopping_rounds=10)\n",
        "    \n",
        "    return model"
      ],
      "execution_count": null,
      "outputs": []
    },
    {
      "cell_type": "code",
      "metadata": {
        "id": "ElPGZyoraV0x",
        "colab_type": "code",
        "colab": {}
      },
      "source": [
        "def objective(trial):\n",
        "    params = {\n",
        "        'objective': 'regression',\n",
        "        'max_bin': trial.suggest_int('max_bin', 255, 500),\n",
        "        'learning_rate': 0.4,\n",
        "        'num_leaves': trial.suggest_int('num_leaves', 32, 128),\n",
        "    }\n",
        "    #LightGBMのデータ分割\n",
        "    X_train_LGB, X_test_LGB, y_train_LGB, y_test_LGB = train_test_split(X, y, test_size=0.2, random_state=2)\n",
        "    X_train2_LGB, X_valid_LGB, y_train2_LGB, y_valid_LGB = train_test_split(X, y, test_size=0.2, random_state=4)\n",
        "\n",
        "    lgb_train = lgb.Dataset(X_train_LGB, y_train_LGB)\n",
        "    lgb_eval = lgb.Dataset(X_valid_LGB, y_valid_LGB, reference=lgb_train)\n",
        "\n",
        "    model = lgb.train(params, lgb_train,\n",
        "                                   valid_sets=[lgb_train, lgb_eval],\n",
        "                                   verbose_eval=10,\n",
        "                                   num_boost_round=1000,\n",
        "                                   early_stopping_rounds=10)\n",
        "\n",
        "    y_pred_valid_LGB = model.predict(X_valid_LGB, num_iteration=model.best_iteration)\n",
        "    score = np.sqrt(mean_squared_error(y_valid_LGB, y_pred_valid_LGB))\n",
        "#    score=y_pred_valid_LGB\n",
        "\n",
        "    return score"
      ],
      "execution_count": null,
      "outputs": []
    },
    {
      "cell_type": "code",
      "metadata": {
        "id": "gp2Zk8SnaXm6",
        "colab_type": "code",
        "colab": {}
      },
      "source": [
        "study = optuna.create_study(sampler=optuna.samplers.RandomSampler(seed=0))\n",
        "study.optimize(objective, n_trials=30)"
      ],
      "execution_count": null,
      "outputs": []
    },
    {
      "cell_type": "code",
      "metadata": {
        "id": "zfdTXwTnaaGC",
        "colab_type": "code",
        "colab": {}
      },
      "source": [
        "lgbm_params = {\n",
        "    'learning_rate': 0.05,\n",
        "    'num_leaves': study.best_params[\"num_leaves\"],\n",
        "    'boosting_type' : 'gbdt',\n",
        "    'objective': 'binary',\n",
        "    'max_bin': study.best_params[\"max_bin\"],\n",
        "    'max_dapth': 6\n",
        "}\n",
        "\n"
      ],
      "execution_count": null,
      "outputs": []
    },
    {
      "cell_type": "code",
      "metadata": {
        "id": "GGcCqcPjabZi",
        "colab_type": "code",
        "colab": {}
      },
      "source": [
        "def bagging(seed):\n",
        "    X_train_LGB, X_valid_LGB, y_train_LGB, y_valid_LGB = train_test_split(X, y, test_size=0.2, random_state=seed)\n",
        "    model_bagging = lgbm_train(X_train_LGB, X_valid_LGB, y_train_LGB, y_valid_LGB, lgbm_params)\n",
        "    return model_bagging"
      ],
      "execution_count": null,
      "outputs": []
    },
    {
      "cell_type": "code",
      "metadata": {
        "id": "cpgvbZbhacuL",
        "colab_type": "code",
        "colab": {}
      },
      "source": [
        "%%time\n",
        "models_LGB = []\n",
        "for i in range(10):\n",
        "    models_LGB.append(bagging(i))\n",
        "\n"
      ],
      "execution_count": null,
      "outputs": []
    },
    {
      "cell_type": "code",
      "metadata": {
        "id": "pYm9E6rC9Fen",
        "colab_type": "code",
        "colab": {}
      },
      "source": [
        ""
      ],
      "execution_count": null,
      "outputs": []
    },
    {
      "cell_type": "code",
      "metadata": {
        "scrolled": true,
        "id": "i1R856gNO5Ib",
        "colab_type": "code",
        "colab": {}
      },
      "source": [
        "y_preds_LGB = []\n",
        "\n",
        "for m in models_LGB:\n",
        "    y_preds_LGB.append(m.predict(X_test_LGB, num_iteration=m.best_iteration))\n",
        "\n",
        "y_preds_bagging_LGB = sum(y_preds_LGB)/len(y_preds_LGB)\n",
        "# auc を計算する\n",
        "auc = roc_auc_score(y_test_LGB, y_preds_bagging_LGB)\n",
        "print(auc)\n",
        "\n",
        "y_subs_LGB = []\n",
        "for m in models_LGB:\n",
        "    y_subs_LGB.append(m.predict(X_sub, num_iteration=m.best_iteration))\n",
        "\n",
        "y_subs_bagging_LGB = sum(y_subs_LGB)/len(y_subs_LGB)\n",
        "y_subs_bagging_LGB"
      ],
      "execution_count": null,
      "outputs": []
    },
    {
      "cell_type": "code",
      "metadata": {
        "id": "746B_92sc2W4",
        "colab_type": "code",
        "colab": {}
      },
      "source": [
        "percentage_LGB=0.31\n",
        "y_sub_LGB = (y_subs_bagging_LGB > percentage_LGB).astype(int)\n",
        "\n",
        "# sub['B'] = y_sub_LGB\n",
        "# sub.to_csv('submission_lightgbm_bagging.csv', index=False, header=False)\n",
        "\n",
        "sum(y_sub_LGB),len(y_sub_LGB)"
      ],
      "execution_count": null,
      "outputs": []
    },
    {
      "cell_type": "markdown",
      "metadata": {
        "id": "liLEHD8vPObL",
        "colab_type": "text"
      },
      "source": [
        ""
      ]
    },
    {
      "cell_type": "markdown",
      "metadata": {
        "id": "xFYBKMQJrXac",
        "colab_type": "text"
      },
      "source": [
        "# Output"
      ]
    },
    {
      "cell_type": "code",
      "metadata": {
        "id": "xOE7TSa1__L2",
        "colab_type": "code",
        "colab": {}
      },
      "source": [
        "sub_base['B'] = y_sub_LGB\n",
        "sub_base.to_csv('submission_LGB.csv', index=False, header=False)\n",
        "sub_base.head()"
      ],
      "execution_count": null,
      "outputs": []
    },
    {
      "cell_type": "code",
      "metadata": {
        "id": "bombv9qqVda2",
        "colab_type": "code",
        "colab": {}
      },
      "source": [
        "files.download('submission_LGB.csv')"
      ],
      "execution_count": null,
      "outputs": []
    }
  ]
}