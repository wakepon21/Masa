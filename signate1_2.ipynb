{
  "nbformat": 4,
  "nbformat_minor": 0,
  "metadata": {
    "colab": {
      "name": "signate1.2",
      "provenance": [],
      "collapsed_sections": [],
      "authorship_tag": "ABX9TyO5nuZnN+HEsH+Nsrj3AeOI",
      "include_colab_link": true
    },
    "kernelspec": {
      "name": "python3",
      "display_name": "Python 3"
    }
  },
  "cells": [
    {
      "cell_type": "markdown",
      "metadata": {
        "id": "view-in-github",
        "colab_type": "text"
      },
      "source": [
        "<a href=\"https://colab.research.google.com/github/wakepon21/Masa/blob/master/signate1_2.ipynb\" target=\"_parent\"><img src=\"https://colab.research.google.com/assets/colab-badge.svg\" alt=\"Open In Colab\"/></a>"
      ]
    },
    {
      "cell_type": "markdown",
      "metadata": {
        "id": "GinbT4FeGZ1h",
        "colab_type": "text"
      },
      "source": [
        "9回目の提出さ\n",
        "\n",
        "ここまでのtry\n",
        "*   Light GBM、特徴量12個くらい。MinMaxScalerで正規化\n",
        "*   基準を0.1以上をOKとしたらクリアになった。\n",
        "*   これは完全に過学習を起こしている。\n",
        "*　 crossvalidationがちゃんと働いてないな。\n",
        "*　 cataegorical featuresという形でもうできることがわかったぞ\n",
        "\n",
        "\n",
        "---\n",
        "\n",
        "\n",
        "今後の課題\n",
        "*   optunaを入れて調整しよう\n",
        "*   過学習の判断をできるようにしよう\n",
        "*   Minmaxとかの正規化ってcategoricaldataにもやっていいの？\n",
        "*   \n",
        "*   \n"
      ]
    },
    {
      "cell_type": "code",
      "metadata": {
        "id": "LD26aoVdOKEk",
        "colab_type": "code",
        "colab": {
          "base_uri": "https://localhost:8080/",
          "height": 1000
        },
        "outputId": "3fcc467a-650e-44cb-a705-16a9a0f3a3ee"
      },
      "source": [
        "#importまとめ。pandas-profilingは少々導入が面倒\n",
        "!pip install git+https://github.com/pandas-profiling/pandas-profiling.git\n",
        "import pandas as pd\n",
        "import numpy as np\n",
        "import matplotlib.pyplot as plt\n",
        "import warnings\n",
        "import pandas_profiling\n",
        "import seaborn as sns\n",
        "from pandas_profiling.utils.cache import cache_file\n",
        "%matplotlib inline\n",
        "\n",
        "warnings.filterwarnings('ignore')"
      ],
      "execution_count": 1,
      "outputs": [
        {
          "output_type": "stream",
          "text": [
            "Collecting git+https://github.com/pandas-profiling/pandas-profiling.git\n",
            "  Cloning https://github.com/pandas-profiling/pandas-profiling.git to /tmp/pip-req-build-y39nhgmu\n",
            "  Running command git clone -q https://github.com/pandas-profiling/pandas-profiling.git /tmp/pip-req-build-y39nhgmu\n",
            "Requirement already satisfied: joblib in /usr/local/lib/python3.6/dist-packages (from pandas-profiling==2.9.0rc1) (0.16.0)\n",
            "Requirement already satisfied: scipy>=1.4.1 in /usr/local/lib/python3.6/dist-packages (from pandas-profiling==2.9.0rc1) (1.4.1)\n",
            "Requirement already satisfied: pandas!=1.0.0,!=1.0.1,!=1.0.2,>=0.25.3 in /usr/local/lib/python3.6/dist-packages (from pandas-profiling==2.9.0rc1) (1.0.5)\n",
            "Requirement already satisfied: matplotlib>=3.2.0 in /usr/local/lib/python3.6/dist-packages (from pandas-profiling==2.9.0rc1) (3.2.2)\n",
            "Collecting confuse>=1.0.0\n",
            "\u001b[?25l  Downloading https://files.pythonhosted.org/packages/b5/6d/bedc0d1068bd244cee05843313cbec6cebb9f01f925538269bababc6d887/confuse-1.3.0-py2.py3-none-any.whl (64kB)\n",
            "\u001b[K     |████████████████████████████████| 71kB 298kB/s \n",
            "\u001b[?25hRequirement already satisfied: jinja2>=2.11.1 in /usr/local/lib/python3.6/dist-packages (from pandas-profiling==2.9.0rc1) (2.11.2)\n",
            "Collecting visions[type_image_path]==0.4.4\n",
            "\u001b[?25l  Downloading https://files.pythonhosted.org/packages/4a/03/5a45d542257830cf1d9da2cdc1c0bc6f55a9212937b70fdd6d7031b46d6c/visions-0.4.4-py3-none-any.whl (59kB)\n",
            "\u001b[K     |████████████████████████████████| 61kB 3.0MB/s \n",
            "\u001b[?25hRequirement already satisfied: numpy>=1.16.0 in /usr/local/lib/python3.6/dist-packages (from pandas-profiling==2.9.0rc1) (1.18.5)\n",
            "Requirement already satisfied: attrs>=19.3.0 in /usr/local/lib/python3.6/dist-packages (from pandas-profiling==2.9.0rc1) (19.3.0)\n",
            "Collecting htmlmin>=0.1.12\n",
            "  Downloading https://files.pythonhosted.org/packages/b3/e7/fcd59e12169de19f0131ff2812077f964c6b960e7c09804d30a7bf2ab461/htmlmin-0.1.12.tar.gz\n",
            "Requirement already satisfied: missingno>=0.4.2 in /usr/local/lib/python3.6/dist-packages (from pandas-profiling==2.9.0rc1) (0.4.2)\n",
            "Collecting phik>=0.9.10\n",
            "\u001b[?25l  Downloading https://files.pythonhosted.org/packages/01/5a/7ef1c04ce62cd72f900c06298dc2385840550d5c653a0dbc19109a5477e6/phik-0.10.0-py3-none-any.whl (599kB)\n",
            "\u001b[K     |████████████████████████████████| 604kB 4.6MB/s \n",
            "\u001b[?25hCollecting tangled-up-in-unicode>=0.0.6\n",
            "\u001b[?25l  Downloading https://files.pythonhosted.org/packages/4a/e2/e588ab9298d4989ce7fdb2b97d18aac878d99dbdc379a4476a09d9271b68/tangled_up_in_unicode-0.0.6-py3-none-any.whl (3.1MB)\n",
            "\u001b[K     |████████████████████████████████| 3.1MB 7.6MB/s \n",
            "\u001b[?25hRequirement already satisfied: requests>=2.23.0 in /usr/local/lib/python3.6/dist-packages (from pandas-profiling==2.9.0rc1) (2.23.0)\n",
            "Collecting tqdm>=4.43.0\n",
            "\u001b[?25l  Downloading https://files.pythonhosted.org/packages/28/7e/281edb5bc3274dfb894d90f4dbacfceaca381c2435ec6187a2c6f329aed7/tqdm-4.48.2-py2.py3-none-any.whl (68kB)\n",
            "\u001b[K     |████████████████████████████████| 71kB 8.5MB/s \n",
            "\u001b[?25hRequirement already satisfied: ipywidgets>=7.5.1 in /usr/local/lib/python3.6/dist-packages (from pandas-profiling==2.9.0rc1) (7.5.1)\n",
            "Requirement already satisfied: seaborn>=0.10.1 in /usr/local/lib/python3.6/dist-packages (from pandas-profiling==2.9.0rc1) (0.10.1)\n",
            "Requirement already satisfied: pytz>=2017.2 in /usr/local/lib/python3.6/dist-packages (from pandas!=1.0.0,!=1.0.1,!=1.0.2,>=0.25.3->pandas-profiling==2.9.0rc1) (2018.9)\n",
            "Requirement already satisfied: python-dateutil>=2.6.1 in /usr/local/lib/python3.6/dist-packages (from pandas!=1.0.0,!=1.0.1,!=1.0.2,>=0.25.3->pandas-profiling==2.9.0rc1) (2.8.1)\n",
            "Requirement already satisfied: pyparsing!=2.0.4,!=2.1.2,!=2.1.6,>=2.0.1 in /usr/local/lib/python3.6/dist-packages (from matplotlib>=3.2.0->pandas-profiling==2.9.0rc1) (2.4.7)\n",
            "Requirement already satisfied: cycler>=0.10 in /usr/local/lib/python3.6/dist-packages (from matplotlib>=3.2.0->pandas-profiling==2.9.0rc1) (0.10.0)\n",
            "Requirement already satisfied: kiwisolver>=1.0.1 in /usr/local/lib/python3.6/dist-packages (from matplotlib>=3.2.0->pandas-profiling==2.9.0rc1) (1.2.0)\n",
            "Requirement already satisfied: pyyaml in /usr/local/lib/python3.6/dist-packages (from confuse>=1.0.0->pandas-profiling==2.9.0rc1) (3.13)\n",
            "Requirement already satisfied: MarkupSafe>=0.23 in /usr/local/lib/python3.6/dist-packages (from jinja2>=2.11.1->pandas-profiling==2.9.0rc1) (1.1.1)\n",
            "Requirement already satisfied: networkx>=2.4 in /usr/local/lib/python3.6/dist-packages (from visions[type_image_path]==0.4.4->pandas-profiling==2.9.0rc1) (2.4)\n",
            "Collecting imagehash; extra == \"type_image_path\"\n",
            "\u001b[?25l  Downloading https://files.pythonhosted.org/packages/1a/5d/cc81830be3c4705a46cdbca74439b67f1017881383ba0127c41c4cecb7b3/ImageHash-4.1.0.tar.gz (291kB)\n",
            "\u001b[K     |████████████████████████████████| 296kB 36.2MB/s \n",
            "\u001b[?25hRequirement already satisfied: Pillow; extra == \"type_image_path\" in /usr/local/lib/python3.6/dist-packages (from visions[type_image_path]==0.4.4->pandas-profiling==2.9.0rc1) (7.0.0)\n",
            "Requirement already satisfied: numba>=0.38.1 in /usr/local/lib/python3.6/dist-packages (from phik>=0.9.10->pandas-profiling==2.9.0rc1) (0.48.0)\n",
            "Requirement already satisfied: certifi>=2017.4.17 in /usr/local/lib/python3.6/dist-packages (from requests>=2.23.0->pandas-profiling==2.9.0rc1) (2020.6.20)\n",
            "Requirement already satisfied: chardet<4,>=3.0.2 in /usr/local/lib/python3.6/dist-packages (from requests>=2.23.0->pandas-profiling==2.9.0rc1) (3.0.4)\n",
            "Requirement already satisfied: urllib3!=1.25.0,!=1.25.1,<1.26,>=1.21.1 in /usr/local/lib/python3.6/dist-packages (from requests>=2.23.0->pandas-profiling==2.9.0rc1) (1.24.3)\n",
            "Requirement already satisfied: idna<3,>=2.5 in /usr/local/lib/python3.6/dist-packages (from requests>=2.23.0->pandas-profiling==2.9.0rc1) (2.10)\n",
            "Requirement already satisfied: widgetsnbextension~=3.5.0 in /usr/local/lib/python3.6/dist-packages (from ipywidgets>=7.5.1->pandas-profiling==2.9.0rc1) (3.5.1)\n",
            "Requirement already satisfied: ipython>=4.0.0; python_version >= \"3.3\" in /usr/local/lib/python3.6/dist-packages (from ipywidgets>=7.5.1->pandas-profiling==2.9.0rc1) (5.5.0)\n",
            "Requirement already satisfied: traitlets>=4.3.1 in /usr/local/lib/python3.6/dist-packages (from ipywidgets>=7.5.1->pandas-profiling==2.9.0rc1) (4.3.3)\n",
            "Requirement already satisfied: nbformat>=4.2.0 in /usr/local/lib/python3.6/dist-packages (from ipywidgets>=7.5.1->pandas-profiling==2.9.0rc1) (5.0.7)\n",
            "Requirement already satisfied: ipykernel>=4.5.1 in /usr/local/lib/python3.6/dist-packages (from ipywidgets>=7.5.1->pandas-profiling==2.9.0rc1) (4.10.1)\n",
            "Requirement already satisfied: six>=1.5 in /usr/local/lib/python3.6/dist-packages (from python-dateutil>=2.6.1->pandas!=1.0.0,!=1.0.1,!=1.0.2,>=0.25.3->pandas-profiling==2.9.0rc1) (1.15.0)\n",
            "Requirement already satisfied: decorator>=4.3.0 in /usr/local/lib/python3.6/dist-packages (from networkx>=2.4->visions[type_image_path]==0.4.4->pandas-profiling==2.9.0rc1) (4.4.2)\n",
            "Requirement already satisfied: PyWavelets in /usr/local/lib/python3.6/dist-packages (from imagehash; extra == \"type_image_path\"->visions[type_image_path]==0.4.4->pandas-profiling==2.9.0rc1) (1.1.1)\n",
            "Requirement already satisfied: setuptools in /usr/local/lib/python3.6/dist-packages (from numba>=0.38.1->phik>=0.9.10->pandas-profiling==2.9.0rc1) (49.2.0)\n",
            "Requirement already satisfied: llvmlite<0.32.0,>=0.31.0dev0 in /usr/local/lib/python3.6/dist-packages (from numba>=0.38.1->phik>=0.9.10->pandas-profiling==2.9.0rc1) (0.31.0)\n",
            "Requirement already satisfied: notebook>=4.4.1 in /usr/local/lib/python3.6/dist-packages (from widgetsnbextension~=3.5.0->ipywidgets>=7.5.1->pandas-profiling==2.9.0rc1) (5.3.1)\n",
            "Requirement already satisfied: pexpect; sys_platform != \"win32\" in /usr/local/lib/python3.6/dist-packages (from ipython>=4.0.0; python_version >= \"3.3\"->ipywidgets>=7.5.1->pandas-profiling==2.9.0rc1) (4.8.0)\n",
            "Requirement already satisfied: prompt-toolkit<2.0.0,>=1.0.4 in /usr/local/lib/python3.6/dist-packages (from ipython>=4.0.0; python_version >= \"3.3\"->ipywidgets>=7.5.1->pandas-profiling==2.9.0rc1) (1.0.18)\n",
            "Requirement already satisfied: simplegeneric>0.8 in /usr/local/lib/python3.6/dist-packages (from ipython>=4.0.0; python_version >= \"3.3\"->ipywidgets>=7.5.1->pandas-profiling==2.9.0rc1) (0.8.1)\n",
            "Requirement already satisfied: pygments in /usr/local/lib/python3.6/dist-packages (from ipython>=4.0.0; python_version >= \"3.3\"->ipywidgets>=7.5.1->pandas-profiling==2.9.0rc1) (2.1.3)\n",
            "Requirement already satisfied: pickleshare in /usr/local/lib/python3.6/dist-packages (from ipython>=4.0.0; python_version >= \"3.3\"->ipywidgets>=7.5.1->pandas-profiling==2.9.0rc1) (0.7.5)\n",
            "Requirement already satisfied: ipython-genutils in /usr/local/lib/python3.6/dist-packages (from traitlets>=4.3.1->ipywidgets>=7.5.1->pandas-profiling==2.9.0rc1) (0.2.0)\n",
            "Requirement already satisfied: jupyter-core in /usr/local/lib/python3.6/dist-packages (from nbformat>=4.2.0->ipywidgets>=7.5.1->pandas-profiling==2.9.0rc1) (4.6.3)\n",
            "Requirement already satisfied: jsonschema!=2.5.0,>=2.4 in /usr/local/lib/python3.6/dist-packages (from nbformat>=4.2.0->ipywidgets>=7.5.1->pandas-profiling==2.9.0rc1) (2.6.0)\n",
            "Requirement already satisfied: jupyter-client in /usr/local/lib/python3.6/dist-packages (from ipykernel>=4.5.1->ipywidgets>=7.5.1->pandas-profiling==2.9.0rc1) (5.3.5)\n",
            "Requirement already satisfied: tornado>=4.0 in /usr/local/lib/python3.6/dist-packages (from ipykernel>=4.5.1->ipywidgets>=7.5.1->pandas-profiling==2.9.0rc1) (5.1.1)\n",
            "Requirement already satisfied: nbconvert in /usr/local/lib/python3.6/dist-packages (from notebook>=4.4.1->widgetsnbextension~=3.5.0->ipywidgets>=7.5.1->pandas-profiling==2.9.0rc1) (5.6.1)\n",
            "Requirement already satisfied: Send2Trash in /usr/local/lib/python3.6/dist-packages (from notebook>=4.4.1->widgetsnbextension~=3.5.0->ipywidgets>=7.5.1->pandas-profiling==2.9.0rc1) (1.5.0)\n",
            "Requirement already satisfied: terminado>=0.8.1 in /usr/local/lib/python3.6/dist-packages (from notebook>=4.4.1->widgetsnbextension~=3.5.0->ipywidgets>=7.5.1->pandas-profiling==2.9.0rc1) (0.8.3)\n",
            "Requirement already satisfied: ptyprocess>=0.5 in /usr/local/lib/python3.6/dist-packages (from pexpect; sys_platform != \"win32\"->ipython>=4.0.0; python_version >= \"3.3\"->ipywidgets>=7.5.1->pandas-profiling==2.9.0rc1) (0.6.0)\n",
            "Requirement already satisfied: wcwidth in /usr/local/lib/python3.6/dist-packages (from prompt-toolkit<2.0.0,>=1.0.4->ipython>=4.0.0; python_version >= \"3.3\"->ipywidgets>=7.5.1->pandas-profiling==2.9.0rc1) (0.2.5)\n",
            "Requirement already satisfied: pyzmq>=13 in /usr/local/lib/python3.6/dist-packages (from jupyter-client->ipykernel>=4.5.1->ipywidgets>=7.5.1->pandas-profiling==2.9.0rc1) (19.0.2)\n",
            "Requirement already satisfied: defusedxml in /usr/local/lib/python3.6/dist-packages (from nbconvert->notebook>=4.4.1->widgetsnbextension~=3.5.0->ipywidgets>=7.5.1->pandas-profiling==2.9.0rc1) (0.6.0)\n",
            "Requirement already satisfied: entrypoints>=0.2.2 in /usr/local/lib/python3.6/dist-packages (from nbconvert->notebook>=4.4.1->widgetsnbextension~=3.5.0->ipywidgets>=7.5.1->pandas-profiling==2.9.0rc1) (0.3)\n",
            "Requirement already satisfied: bleach in /usr/local/lib/python3.6/dist-packages (from nbconvert->notebook>=4.4.1->widgetsnbextension~=3.5.0->ipywidgets>=7.5.1->pandas-profiling==2.9.0rc1) (3.1.5)\n",
            "Requirement already satisfied: pandocfilters>=1.4.1 in /usr/local/lib/python3.6/dist-packages (from nbconvert->notebook>=4.4.1->widgetsnbextension~=3.5.0->ipywidgets>=7.5.1->pandas-profiling==2.9.0rc1) (1.4.2)\n",
            "Requirement already satisfied: testpath in /usr/local/lib/python3.6/dist-packages (from nbconvert->notebook>=4.4.1->widgetsnbextension~=3.5.0->ipywidgets>=7.5.1->pandas-profiling==2.9.0rc1) (0.4.4)\n",
            "Requirement already satisfied: mistune<2,>=0.8.1 in /usr/local/lib/python3.6/dist-packages (from nbconvert->notebook>=4.4.1->widgetsnbextension~=3.5.0->ipywidgets>=7.5.1->pandas-profiling==2.9.0rc1) (0.8.4)\n",
            "Requirement already satisfied: packaging in /usr/local/lib/python3.6/dist-packages (from bleach->nbconvert->notebook>=4.4.1->widgetsnbextension~=3.5.0->ipywidgets>=7.5.1->pandas-profiling==2.9.0rc1) (20.4)\n",
            "Requirement already satisfied: webencodings in /usr/local/lib/python3.6/dist-packages (from bleach->nbconvert->notebook>=4.4.1->widgetsnbextension~=3.5.0->ipywidgets>=7.5.1->pandas-profiling==2.9.0rc1) (0.5.1)\n",
            "Building wheels for collected packages: pandas-profiling, htmlmin, imagehash\n",
            "  Building wheel for pandas-profiling (setup.py) ... \u001b[?25l\u001b[?25hdone\n",
            "  Created wheel for pandas-profiling: filename=pandas_profiling-2.9.0rc1-py2.py3-none-any.whl size=258106 sha256=4c395ad3d1884760306598af12d2e370471a280dc9e6a50450181ced89649db7\n",
            "  Stored in directory: /tmp/pip-ephem-wheel-cache-7dfqw0d7/wheels/cd/13/75/8fcecd52c706914e90d916ede57f8c74de60e4c9ebc6c2f3b7\n",
            "  Building wheel for htmlmin (setup.py) ... \u001b[?25l\u001b[?25hdone\n",
            "  Created wheel for htmlmin: filename=htmlmin-0.1.12-cp36-none-any.whl size=27084 sha256=7de2cf4375b0d81debd0bd1228616fb11ce1745418183bfe07c6235b800418a2\n",
            "  Stored in directory: /root/.cache/pip/wheels/43/07/ac/7c5a9d708d65247ac1f94066cf1db075540b85716c30255459\n",
            "  Building wheel for imagehash (setup.py) ... \u001b[?25l\u001b[?25hdone\n",
            "  Created wheel for imagehash: filename=ImageHash-4.1.0-py2.py3-none-any.whl size=291990 sha256=df3cc46824d636f7ca713c2a791eafac79547012dca420cbf090f940c82a6206\n",
            "  Stored in directory: /root/.cache/pip/wheels/07/1c/dc/6831446f09feb8cc199ec73a0f2f0703253f6ae013a22f4be9\n",
            "Successfully built pandas-profiling htmlmin imagehash\n",
            "Installing collected packages: confuse, tangled-up-in-unicode, imagehash, visions, htmlmin, phik, tqdm, pandas-profiling\n",
            "  Found existing installation: tqdm 4.41.1\n",
            "    Uninstalling tqdm-4.41.1:\n",
            "      Successfully uninstalled tqdm-4.41.1\n",
            "  Found existing installation: pandas-profiling 1.4.1\n",
            "    Uninstalling pandas-profiling-1.4.1:\n",
            "      Successfully uninstalled pandas-profiling-1.4.1\n",
            "Successfully installed confuse-1.3.0 htmlmin-0.1.12 imagehash-4.1.0 pandas-profiling-2.9.0rc1 phik-0.10.0 tangled-up-in-unicode-0.0.6 tqdm-4.48.2 visions-0.4.4\n"
          ],
          "name": "stdout"
        },
        {
          "output_type": "stream",
          "text": [
            "/usr/local/lib/python3.6/dist-packages/statsmodels/tools/_testing.py:19: FutureWarning: pandas.util.testing is deprecated. Use the functions in the public API at pandas.testing instead.\n",
            "  import pandas.util.testing as tm\n"
          ],
          "name": "stderr"
        }
      ]
    },
    {
      "cell_type": "code",
      "metadata": {
        "id": "Jw4TmFfKx2SL",
        "colab_type": "code",
        "colab": {
          "base_uri": "https://localhost:8080/",
          "height": 35
        },
        "outputId": "9855413a-773a-4fbd-d3b4-d9e15d4888af"
      },
      "source": [
        "#train,test,submit_sampleのみっつがそろっているか確認\n",
        "!ls"
      ],
      "execution_count": 2,
      "outputs": [
        {
          "output_type": "stream",
          "text": [
            "sample_data\n"
          ],
          "name": "stdout"
        }
      ]
    },
    {
      "cell_type": "code",
      "metadata": {
        "id": "LHdnUDx0ufsI",
        "colab_type": "code",
        "colab": {
          "resources": {
            "http://localhost:8080/nbextensions/google.colab/files.js": {
              "data": "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",
              "ok": true,
              "headers": [
                [
                  "content-type",
                  "application/javascript"
                ]
              ],
              "status": 200,
              "status_text": ""
            }
          },
          "base_uri": "https://localhost:8080/",
          "height": 149
        },
        "outputId": "8c9f999a-bd65-4889-d3d1-560894b5f173"
      },
      "source": [
        "#そろっていなかったら選択\n",
        "from google.colab import files\n",
        "train_up = files.upload()"
      ],
      "execution_count": 4,
      "outputs": [
        {
          "output_type": "display_data",
          "data": {
            "text/html": [
              "\n",
              "     <input type=\"file\" id=\"files-1cda203f-ceea-409d-abc0-f3b79e7014b3\" name=\"files[]\" multiple disabled\n",
              "        style=\"border:none\" />\n",
              "     <output id=\"result-1cda203f-ceea-409d-abc0-f3b79e7014b3\">\n",
              "      Upload widget is only available when the cell has been executed in the\n",
              "      current browser session. Please rerun this cell to enable.\n",
              "      </output>\n",
              "      <script src=\"/nbextensions/google.colab/files.js\"></script> "
            ],
            "text/plain": [
              "<IPython.core.display.HTML object>"
            ]
          },
          "metadata": {
            "tags": []
          }
        },
        {
          "output_type": "stream",
          "text": [
            "Saving submit_sample.csv to submit_sample.csv\n",
            "Saving test.csv to test.csv\n",
            "Saving train.csv to train.csv\n"
          ],
          "name": "stdout"
        }
      ]
    },
    {
      "cell_type": "code",
      "metadata": {
        "id": "Keog0n_Hufxd",
        "colab_type": "code",
        "colab": {
          "base_uri": "https://localhost:8080/",
          "height": 53
        },
        "outputId": "20c5aa82-0b49-4648-b915-218eebf42bf6"
      },
      "source": [
        "!ls"
      ],
      "execution_count": 36,
      "outputs": [
        {
          "output_type": "stream",
          "text": [
            "sample_data\t\t       submit_sample.csv  train.csv\n",
            "submission_lightgbm_kfold.csv  test.csv\n"
          ],
          "name": "stdout"
        }
      ]
    },
    {
      "cell_type": "code",
      "metadata": {
        "id": "cSJzMVtAu1-e",
        "colab_type": "code",
        "colab": {}
      },
      "source": [
        "#上手く列指定ができなかったので、先頭にheaderをつける\n",
        "sub = pd.read_csv(\"submit_sample.csv\",names=(\"A\",\"B\"))\n",
        "#test,train,その足し合わせdataの三種を作る\n",
        "test = pd.read_csv(\"test.csv\")\n",
        "train = pd.read_csv(\"train.csv\")\n",
        "data = pd.concat([train,test], sort=False)\n",
        "\n",
        "#特徴量をエンジニアリング\n",
        "data[\"job\"].replace(['blue-collar','management','technician','admin.','services','unknown','self-employed','entrepreneur','student','retired','unemployed','housemaid'],[0,1,2,3,4,5,6,7,8,9,10,11],inplace=True)\n",
        "data[\"loan\"].replace(['yes','no'],[1,0],inplace=True)\n",
        "data[\"marital\"].replace(['married','single','divorced'],[2,1,0],inplace=True)\n",
        "data['education'].replace(['secondary','tertiary','primary','unknown'],[3,2,1,0],inplace=True)\n",
        "data[\"housing\"].replace(['yes','no'],[1,0],inplace=True)\n",
        "data[\"contact\"].replace(['cellular','telephone','unknown'],[2,1,0],inplace=True)\n",
        "data[\"poutcome\"].replace(['success','failure','unknown','other'],[3,2,1,0],inplace=True)\n",
        "data[\"job\"] = data[\"job\"].astype(np.int64)\n",
        "\n",
        "#全体のうち、消したいモノだけ選ぶ\n",
        "all_columns = ['id','age','job','marital','education','default','balance','housing','loan','contact','day','month','duration','campaign','pdays','previous','poutcome']\n",
        "remain_columns = list(set(all_columns)-set(delete_columns))\n",
        "remain_columns = ['age','job','marital','education','housing','loan','contact','campaign','previous','poutcome']\n",
        "delete_columns = list(set(all_columns)-set(remain_columns))\n",
        "data.drop(delete_columns, axis=1, inplace=True)\n",
        "\n",
        "#trainとtestを再度切り分け\n",
        "train = data[:len(train)]\n",
        "test = data[len(train):]"
      ],
      "execution_count": 66,
      "outputs": []
    },
    {
      "cell_type": "markdown",
      "metadata": {
        "id": "U_3fgjRk6DNc",
        "colab_type": "text"
      },
      "source": [
        "\n",
        "**------------------cross validation--------------------**\n"
      ]
    },
    {
      "cell_type": "markdown",
      "metadata": {
        "id": "3wjamyw6cNlC",
        "colab_type": "text"
      },
      "source": [
        "**------light GBM-------**"
      ]
    },
    {
      "cell_type": "code",
      "metadata": {
        "id": "sDDnvFo6U-hB",
        "colab_type": "code",
        "colab": {}
      },
      "source": [
        "#train,testを、さらに説明変数Xと、予測変数yに切り分け。y_testは与えられていないのでなし。三種類がでる\n",
        "y_train = train['y']\n",
        "X_train = train.drop('y', axis = 1)\n",
        "X_test = test.drop('y', axis = 1)\n",
        "\n",
        "# MinmaxScalarを使って正規化。\n",
        "from sklearn.preprocessing import MinMaxScaler\n",
        "mmsc = MinMaxScaler()\n",
        "# 訓練用のデータを正規化する。fit_transformはfit＆transformの略で、情報取得＆正規化の意味\n",
        "X_train_norm = mmsc.fit_transform(X_train)\n",
        "# 訓練用データを基準にテストデータも正規化\n",
        "X_test_norm = mmsc.transform(X_test)\n",
        "X_train=X_train_norm\n",
        "X_test=X_test_norm\n",
        "#正規化するとarrayになっていたので、DataFrameに戻す\n",
        "X_train=pd.DataFrame(X_train)\n",
        "X_test=pd.DataFrame(X_test)\n",
        "#Dataflameにしたらheaderが抜けていたので付け直す\n",
        "X_train.columns=remain_columns\n",
        "X_test.columns=remain_columns\n",
        "#この辺のheader周りの操作は無駄なのでできたら修正したい"
      ],
      "execution_count": 67,
      "outputs": []
    },
    {
      "cell_type": "code",
      "metadata": {
        "id": "qX4ovXsMGhsG",
        "colab_type": "code",
        "colab": {
          "base_uri": "https://localhost:8080/",
          "height": 415
        },
        "outputId": "918dae49-5b9b-4439-fc04-8561a05d395f"
      },
      "source": [
        "#欲しいデータが見えているか確認\n",
        "data"
      ],
      "execution_count": 68,
      "outputs": [
        {
          "output_type": "execute_result",
          "data": {
            "text/html": [
              "<div>\n",
              "<style scoped>\n",
              "    .dataframe tbody tr th:only-of-type {\n",
              "        vertical-align: middle;\n",
              "    }\n",
              "\n",
              "    .dataframe tbody tr th {\n",
              "        vertical-align: top;\n",
              "    }\n",
              "\n",
              "    .dataframe thead th {\n",
              "        text-align: right;\n",
              "    }\n",
              "</style>\n",
              "<table border=\"1\" class=\"dataframe\">\n",
              "  <thead>\n",
              "    <tr style=\"text-align: right;\">\n",
              "      <th></th>\n",
              "      <th>age</th>\n",
              "      <th>job</th>\n",
              "      <th>marital</th>\n",
              "      <th>education</th>\n",
              "      <th>housing</th>\n",
              "      <th>loan</th>\n",
              "      <th>contact</th>\n",
              "      <th>campaign</th>\n",
              "      <th>previous</th>\n",
              "      <th>poutcome</th>\n",
              "      <th>y</th>\n",
              "    </tr>\n",
              "  </thead>\n",
              "  <tbody>\n",
              "    <tr>\n",
              "      <th>0</th>\n",
              "      <td>31</td>\n",
              "      <td>4</td>\n",
              "      <td>2</td>\n",
              "      <td>3</td>\n",
              "      <td>1</td>\n",
              "      <td>0</td>\n",
              "      <td>2</td>\n",
              "      <td>3</td>\n",
              "      <td>0</td>\n",
              "      <td>0</td>\n",
              "      <td>0.0</td>\n",
              "    </tr>\n",
              "    <tr>\n",
              "      <th>1</th>\n",
              "      <td>29</td>\n",
              "      <td>7</td>\n",
              "      <td>1</td>\n",
              "      <td>2</td>\n",
              "      <td>0</td>\n",
              "      <td>0</td>\n",
              "      <td>2</td>\n",
              "      <td>2</td>\n",
              "      <td>0</td>\n",
              "      <td>1</td>\n",
              "      <td>1.0</td>\n",
              "    </tr>\n",
              "    <tr>\n",
              "      <th>2</th>\n",
              "      <td>35</td>\n",
              "      <td>1</td>\n",
              "      <td>2</td>\n",
              "      <td>2</td>\n",
              "      <td>1</td>\n",
              "      <td>0</td>\n",
              "      <td>2</td>\n",
              "      <td>1</td>\n",
              "      <td>0</td>\n",
              "      <td>2</td>\n",
              "      <td>0.0</td>\n",
              "    </tr>\n",
              "    <tr>\n",
              "      <th>3</th>\n",
              "      <td>31</td>\n",
              "      <td>2</td>\n",
              "      <td>2</td>\n",
              "      <td>3</td>\n",
              "      <td>1</td>\n",
              "      <td>1</td>\n",
              "      <td>0</td>\n",
              "      <td>2</td>\n",
              "      <td>0</td>\n",
              "      <td>2</td>\n",
              "      <td>0.0</td>\n",
              "    </tr>\n",
              "    <tr>\n",
              "      <th>4</th>\n",
              "      <td>48</td>\n",
              "      <td>10</td>\n",
              "      <td>2</td>\n",
              "      <td>1</td>\n",
              "      <td>1</td>\n",
              "      <td>0</td>\n",
              "      <td>1</td>\n",
              "      <td>1</td>\n",
              "      <td>0</td>\n",
              "      <td>1</td>\n",
              "      <td>0.0</td>\n",
              "    </tr>\n",
              "    <tr>\n",
              "      <th>...</th>\n",
              "      <td>...</td>\n",
              "      <td>...</td>\n",
              "      <td>...</td>\n",
              "      <td>...</td>\n",
              "      <td>...</td>\n",
              "      <td>...</td>\n",
              "      <td>...</td>\n",
              "      <td>...</td>\n",
              "      <td>...</td>\n",
              "      <td>...</td>\n",
              "      <td>...</td>\n",
              "    </tr>\n",
              "    <tr>\n",
              "      <th>18045</th>\n",
              "      <td>49</td>\n",
              "      <td>6</td>\n",
              "      <td>2</td>\n",
              "      <td>2</td>\n",
              "      <td>1</td>\n",
              "      <td>0</td>\n",
              "      <td>2</td>\n",
              "      <td>2</td>\n",
              "      <td>0</td>\n",
              "      <td>2</td>\n",
              "      <td>NaN</td>\n",
              "    </tr>\n",
              "    <tr>\n",
              "      <th>18046</th>\n",
              "      <td>34</td>\n",
              "      <td>0</td>\n",
              "      <td>2</td>\n",
              "      <td>3</td>\n",
              "      <td>1</td>\n",
              "      <td>0</td>\n",
              "      <td>2</td>\n",
              "      <td>1</td>\n",
              "      <td>0</td>\n",
              "      <td>1</td>\n",
              "      <td>NaN</td>\n",
              "    </tr>\n",
              "    <tr>\n",
              "      <th>18047</th>\n",
              "      <td>34</td>\n",
              "      <td>3</td>\n",
              "      <td>1</td>\n",
              "      <td>3</td>\n",
              "      <td>1</td>\n",
              "      <td>0</td>\n",
              "      <td>0</td>\n",
              "      <td>2</td>\n",
              "      <td>0</td>\n",
              "      <td>1</td>\n",
              "      <td>NaN</td>\n",
              "    </tr>\n",
              "    <tr>\n",
              "      <th>18048</th>\n",
              "      <td>31</td>\n",
              "      <td>2</td>\n",
              "      <td>1</td>\n",
              "      <td>3</td>\n",
              "      <td>1</td>\n",
              "      <td>0</td>\n",
              "      <td>0</td>\n",
              "      <td>2</td>\n",
              "      <td>0</td>\n",
              "      <td>1</td>\n",
              "      <td>NaN</td>\n",
              "    </tr>\n",
              "    <tr>\n",
              "      <th>18049</th>\n",
              "      <td>30</td>\n",
              "      <td>9</td>\n",
              "      <td>2</td>\n",
              "      <td>1</td>\n",
              "      <td>0</td>\n",
              "      <td>0</td>\n",
              "      <td>2</td>\n",
              "      <td>1</td>\n",
              "      <td>0</td>\n",
              "      <td>1</td>\n",
              "      <td>NaN</td>\n",
              "    </tr>\n",
              "  </tbody>\n",
              "</table>\n",
              "<p>45150 rows × 11 columns</p>\n",
              "</div>"
            ],
            "text/plain": [
              "       age  job  marital  education  ...  campaign  previous  poutcome    y\n",
              "0       31    4        2          3  ...         3         0         0  0.0\n",
              "1       29    7        1          2  ...         2         0         1  1.0\n",
              "2       35    1        2          2  ...         1         0         2  0.0\n",
              "3       31    2        2          3  ...         2         0         2  0.0\n",
              "4       48   10        2          1  ...         1         0         1  0.0\n",
              "...    ...  ...      ...        ...  ...       ...       ...       ...  ...\n",
              "18045   49    6        2          2  ...         2         0         2  NaN\n",
              "18046   34    0        2          3  ...         1         0         1  NaN\n",
              "18047   34    3        1          3  ...         2         0         1  NaN\n",
              "18048   31    2        1          3  ...         2         0         1  NaN\n",
              "18049   30    9        2          1  ...         1         0         1  NaN\n",
              "\n",
              "[45150 rows x 11 columns]"
            ]
          },
          "metadata": {
            "tags": []
          },
          "execution_count": 68
        }
      ]
    },
    {
      "cell_type": "code",
      "metadata": {
        "id": "A46FhCv5q_61",
        "colab_type": "code",
        "colab": {
          "base_uri": "https://localhost:8080/",
          "height": 197
        },
        "outputId": "a0de7e0d-89ac-4780-e652-e87646aa7e27"
      },
      "source": [
        "remain_columns"
      ],
      "execution_count": 69,
      "outputs": [
        {
          "output_type": "execute_result",
          "data": {
            "text/plain": [
              "['age',\n",
              " 'job',\n",
              " 'marital',\n",
              " 'education',\n",
              " 'housing',\n",
              " 'loan',\n",
              " 'contact',\n",
              " 'campaign',\n",
              " 'previous',\n",
              " 'poutcome']"
            ]
          },
          "metadata": {
            "tags": []
          },
          "execution_count": 69
        }
      ]
    },
    {
      "cell_type": "code",
      "metadata": {
        "id": "ME9Mc7OwqyzZ",
        "colab_type": "code",
        "colab": {
          "base_uri": "https://localhost:8080/",
          "height": 415
        },
        "outputId": "cf476abb-5b22-42c9-edb5-f904dd20556d"
      },
      "source": [
        "X_train"
      ],
      "execution_count": 70,
      "outputs": [
        {
          "output_type": "execute_result",
          "data": {
            "text/html": [
              "<div>\n",
              "<style scoped>\n",
              "    .dataframe tbody tr th:only-of-type {\n",
              "        vertical-align: middle;\n",
              "    }\n",
              "\n",
              "    .dataframe tbody tr th {\n",
              "        vertical-align: top;\n",
              "    }\n",
              "\n",
              "    .dataframe thead th {\n",
              "        text-align: right;\n",
              "    }\n",
              "</style>\n",
              "<table border=\"1\" class=\"dataframe\">\n",
              "  <thead>\n",
              "    <tr style=\"text-align: right;\">\n",
              "      <th></th>\n",
              "      <th>age</th>\n",
              "      <th>job</th>\n",
              "      <th>marital</th>\n",
              "      <th>education</th>\n",
              "      <th>housing</th>\n",
              "      <th>loan</th>\n",
              "      <th>contact</th>\n",
              "      <th>campaign</th>\n",
              "      <th>previous</th>\n",
              "      <th>poutcome</th>\n",
              "    </tr>\n",
              "  </thead>\n",
              "  <tbody>\n",
              "    <tr>\n",
              "      <th>0</th>\n",
              "      <td>0.132353</td>\n",
              "      <td>0.363636</td>\n",
              "      <td>1.0</td>\n",
              "      <td>1.000000</td>\n",
              "      <td>1.0</td>\n",
              "      <td>0.0</td>\n",
              "      <td>1.0</td>\n",
              "      <td>0.50</td>\n",
              "      <td>0.0</td>\n",
              "      <td>0.000000</td>\n",
              "    </tr>\n",
              "    <tr>\n",
              "      <th>1</th>\n",
              "      <td>0.102941</td>\n",
              "      <td>0.636364</td>\n",
              "      <td>0.5</td>\n",
              "      <td>0.666667</td>\n",
              "      <td>0.0</td>\n",
              "      <td>0.0</td>\n",
              "      <td>1.0</td>\n",
              "      <td>0.25</td>\n",
              "      <td>0.0</td>\n",
              "      <td>0.333333</td>\n",
              "    </tr>\n",
              "    <tr>\n",
              "      <th>2</th>\n",
              "      <td>0.191176</td>\n",
              "      <td>0.090909</td>\n",
              "      <td>1.0</td>\n",
              "      <td>0.666667</td>\n",
              "      <td>1.0</td>\n",
              "      <td>0.0</td>\n",
              "      <td>1.0</td>\n",
              "      <td>0.00</td>\n",
              "      <td>0.0</td>\n",
              "      <td>0.666667</td>\n",
              "    </tr>\n",
              "    <tr>\n",
              "      <th>3</th>\n",
              "      <td>0.132353</td>\n",
              "      <td>0.181818</td>\n",
              "      <td>1.0</td>\n",
              "      <td>1.000000</td>\n",
              "      <td>1.0</td>\n",
              "      <td>1.0</td>\n",
              "      <td>0.0</td>\n",
              "      <td>0.25</td>\n",
              "      <td>0.0</td>\n",
              "      <td>0.666667</td>\n",
              "    </tr>\n",
              "    <tr>\n",
              "      <th>4</th>\n",
              "      <td>0.382353</td>\n",
              "      <td>0.909091</td>\n",
              "      <td>1.0</td>\n",
              "      <td>0.333333</td>\n",
              "      <td>1.0</td>\n",
              "      <td>0.0</td>\n",
              "      <td>0.5</td>\n",
              "      <td>0.00</td>\n",
              "      <td>0.0</td>\n",
              "      <td>0.333333</td>\n",
              "    </tr>\n",
              "    <tr>\n",
              "      <th>...</th>\n",
              "      <td>...</td>\n",
              "      <td>...</td>\n",
              "      <td>...</td>\n",
              "      <td>...</td>\n",
              "      <td>...</td>\n",
              "      <td>...</td>\n",
              "      <td>...</td>\n",
              "      <td>...</td>\n",
              "      <td>...</td>\n",
              "      <td>...</td>\n",
              "    </tr>\n",
              "    <tr>\n",
              "      <th>27095</th>\n",
              "      <td>0.220588</td>\n",
              "      <td>0.000000</td>\n",
              "      <td>1.0</td>\n",
              "      <td>1.000000</td>\n",
              "      <td>1.0</td>\n",
              "      <td>0.0</td>\n",
              "      <td>1.0</td>\n",
              "      <td>0.75</td>\n",
              "      <td>0.0</td>\n",
              "      <td>0.333333</td>\n",
              "    </tr>\n",
              "    <tr>\n",
              "      <th>27096</th>\n",
              "      <td>0.191176</td>\n",
              "      <td>0.363636</td>\n",
              "      <td>1.0</td>\n",
              "      <td>1.000000</td>\n",
              "      <td>1.0</td>\n",
              "      <td>0.0</td>\n",
              "      <td>1.0</td>\n",
              "      <td>0.00</td>\n",
              "      <td>0.0</td>\n",
              "      <td>0.333333</td>\n",
              "    </tr>\n",
              "    <tr>\n",
              "      <th>27097</th>\n",
              "      <td>0.191176</td>\n",
              "      <td>0.363636</td>\n",
              "      <td>1.0</td>\n",
              "      <td>0.000000</td>\n",
              "      <td>0.0</td>\n",
              "      <td>0.0</td>\n",
              "      <td>1.0</td>\n",
              "      <td>0.25</td>\n",
              "      <td>0.0</td>\n",
              "      <td>0.333333</td>\n",
              "    </tr>\n",
              "    <tr>\n",
              "      <th>27098</th>\n",
              "      <td>0.117647</td>\n",
              "      <td>0.272727</td>\n",
              "      <td>0.5</td>\n",
              "      <td>1.000000</td>\n",
              "      <td>1.0</td>\n",
              "      <td>0.0</td>\n",
              "      <td>1.0</td>\n",
              "      <td>0.00</td>\n",
              "      <td>0.0</td>\n",
              "      <td>0.333333</td>\n",
              "    </tr>\n",
              "    <tr>\n",
              "      <th>27099</th>\n",
              "      <td>0.176471</td>\n",
              "      <td>0.090909</td>\n",
              "      <td>1.0</td>\n",
              "      <td>0.666667</td>\n",
              "      <td>1.0</td>\n",
              "      <td>0.0</td>\n",
              "      <td>1.0</td>\n",
              "      <td>0.25</td>\n",
              "      <td>0.0</td>\n",
              "      <td>0.333333</td>\n",
              "    </tr>\n",
              "  </tbody>\n",
              "</table>\n",
              "<p>27100 rows × 10 columns</p>\n",
              "</div>"
            ],
            "text/plain": [
              "            age       job  marital  ...  campaign  previous  poutcome\n",
              "0      0.132353  0.363636      1.0  ...      0.50       0.0  0.000000\n",
              "1      0.102941  0.636364      0.5  ...      0.25       0.0  0.333333\n",
              "2      0.191176  0.090909      1.0  ...      0.00       0.0  0.666667\n",
              "3      0.132353  0.181818      1.0  ...      0.25       0.0  0.666667\n",
              "4      0.382353  0.909091      1.0  ...      0.00       0.0  0.333333\n",
              "...         ...       ...      ...  ...       ...       ...       ...\n",
              "27095  0.220588  0.000000      1.0  ...      0.75       0.0  0.333333\n",
              "27096  0.191176  0.363636      1.0  ...      0.00       0.0  0.333333\n",
              "27097  0.191176  0.363636      1.0  ...      0.25       0.0  0.333333\n",
              "27098  0.117647  0.272727      0.5  ...      0.00       0.0  0.333333\n",
              "27099  0.176471  0.090909      1.0  ...      0.25       0.0  0.333333\n",
              "\n",
              "[27100 rows x 10 columns]"
            ]
          },
          "metadata": {
            "tags": []
          },
          "execution_count": 70
        }
      ]
    },
    {
      "cell_type": "code",
      "metadata": {
        "id": "Oz52MLMPQ46C",
        "colab_type": "code",
        "colab": {
          "base_uri": "https://localhost:8080/",
          "height": 1000
        },
        "outputId": "f9ea9662-d9f7-4219-daa9-92e8d648c8ed"
      },
      "source": [
        "#LightGBMに入れる。\n",
        "from sklearn.model_selection import KFold\n",
        "import lightgbm as lgb\n",
        "\n",
        "y_preds = []\n",
        "models = []\n",
        "oof_train = np.zeros((len(X_train),))\n",
        "cv = KFold(n_splits=5, shuffle=True, random_state=0)\n",
        "\n",
        "#categorical dataの入れ忘れに注意\n",
        "categorical_features = [\"job\",\"marital\",\"education\",\"housing\",\"loan\",\"contact\",\"poutcome\"]\n",
        "\n",
        "params = {\n",
        "    'objective': 'binary',\n",
        "    'max_bin': 400,\n",
        "    'learning_rate': 0.01,\n",
        "    'num_leaves': 40\n",
        "}\n",
        "\n",
        "for fold_id, (train_index, valid_index) in enumerate(cv.split(X_train)):\n",
        "    X_tr = X_train.loc[train_index, :]\n",
        "    X_val = X_train.loc[valid_index, :]\n",
        "    y_tr = y_train[train_index]\n",
        "    y_val = y_train[valid_index]\n",
        "\n",
        "    lgb_train = lgb.Dataset(X_tr, y_tr,\n",
        "                                             categorical_feature=categorical_features)\n",
        "    lgb_eval = lgb.Dataset(X_val, y_val, reference=lgb_train,\n",
        "                                            categorical_feature=categorical_features)\n",
        "    model = lgb.train(params, lgb_train,\n",
        "                                   valid_sets=[lgb_train, lgb_eval],\n",
        "                                   verbose_eval=10,\n",
        "                                   num_boost_round=1000,\n",
        "                                   early_stopping_rounds=10)\n",
        "    \n",
        "    oof_train[valid_index] = model.predict(X_val, num_iteration=model.best_iteration)\n",
        "    y_pred = model.predict(X_test, num_iteration=model.best_iteration)\n",
        "\n",
        "    y_preds.append(y_pred)\n",
        "    models.append(model)"
      ],
      "execution_count": 71,
      "outputs": [
        {
          "output_type": "stream",
          "text": [
            "Training until validation scores don't improve for 10 rounds.\n",
            "[10]\ttraining's binary_logloss: 0.266131\tvalid_1's binary_logloss: 0.244256\n",
            "[20]\ttraining's binary_logloss: 0.257993\tvalid_1's binary_logloss: 0.2385\n",
            "[30]\ttraining's binary_logloss: 0.252018\tvalid_1's binary_logloss: 0.234323\n",
            "[40]\ttraining's binary_logloss: 0.247314\tvalid_1's binary_logloss: 0.231178\n",
            "[50]\ttraining's binary_logloss: 0.243505\tvalid_1's binary_logloss: 0.228754\n",
            "[60]\ttraining's binary_logloss: 0.240386\tvalid_1's binary_logloss: 0.226694\n",
            "[70]\ttraining's binary_logloss: 0.237785\tvalid_1's binary_logloss: 0.225113\n",
            "[80]\ttraining's binary_logloss: 0.235624\tvalid_1's binary_logloss: 0.22377\n",
            "[90]\ttraining's binary_logloss: 0.233787\tvalid_1's binary_logloss: 0.222707\n",
            "[100]\ttraining's binary_logloss: 0.23221\tvalid_1's binary_logloss: 0.221872\n",
            "[110]\ttraining's binary_logloss: 0.230794\tvalid_1's binary_logloss: 0.221172\n",
            "[120]\ttraining's binary_logloss: 0.229542\tvalid_1's binary_logloss: 0.220587\n",
            "[130]\ttraining's binary_logloss: 0.228473\tvalid_1's binary_logloss: 0.220121\n",
            "[140]\ttraining's binary_logloss: 0.227504\tvalid_1's binary_logloss: 0.219762\n",
            "[150]\ttraining's binary_logloss: 0.226641\tvalid_1's binary_logloss: 0.21944\n",
            "[160]\ttraining's binary_logloss: 0.225877\tvalid_1's binary_logloss: 0.219194\n",
            "[170]\ttraining's binary_logloss: 0.225193\tvalid_1's binary_logloss: 0.218958\n",
            "[180]\ttraining's binary_logloss: 0.224579\tvalid_1's binary_logloss: 0.218784\n",
            "[190]\ttraining's binary_logloss: 0.223955\tvalid_1's binary_logloss: 0.2187\n",
            "[200]\ttraining's binary_logloss: 0.223415\tvalid_1's binary_logloss: 0.218598\n",
            "[210]\ttraining's binary_logloss: 0.222921\tvalid_1's binary_logloss: 0.218488\n",
            "[220]\ttraining's binary_logloss: 0.222474\tvalid_1's binary_logloss: 0.218416\n",
            "[230]\ttraining's binary_logloss: 0.222064\tvalid_1's binary_logloss: 0.218357\n",
            "[240]\ttraining's binary_logloss: 0.221666\tvalid_1's binary_logloss: 0.218264\n",
            "[250]\ttraining's binary_logloss: 0.221277\tvalid_1's binary_logloss: 0.218186\n",
            "[260]\ttraining's binary_logloss: 0.220932\tvalid_1's binary_logloss: 0.218112\n",
            "[270]\ttraining's binary_logloss: 0.220597\tvalid_1's binary_logloss: 0.218074\n",
            "Early stopping, best iteration is:\n",
            "[269]\ttraining's binary_logloss: 0.220631\tvalid_1's binary_logloss: 0.218072\n",
            "Training until validation scores don't improve for 10 rounds.\n",
            "[10]\ttraining's binary_logloss: 0.260559\tvalid_1's binary_logloss: 0.267187\n",
            "[20]\ttraining's binary_logloss: 0.253079\tvalid_1's binary_logloss: 0.259516\n",
            "[30]\ttraining's binary_logloss: 0.247566\tvalid_1's binary_logloss: 0.25403\n",
            "[40]\ttraining's binary_logloss: 0.243254\tvalid_1's binary_logloss: 0.249783\n",
            "[50]\ttraining's binary_logloss: 0.239791\tvalid_1's binary_logloss: 0.246418\n",
            "[60]\ttraining's binary_logloss: 0.236951\tvalid_1's binary_logloss: 0.243698\n",
            "[70]\ttraining's binary_logloss: 0.234583\tvalid_1's binary_logloss: 0.241414\n",
            "[80]\ttraining's binary_logloss: 0.232589\tvalid_1's binary_logloss: 0.239548\n",
            "[90]\ttraining's binary_logloss: 0.230889\tvalid_1's binary_logloss: 0.238013\n",
            "[100]\ttraining's binary_logloss: 0.229372\tvalid_1's binary_logloss: 0.236608\n",
            "[110]\ttraining's binary_logloss: 0.228075\tvalid_1's binary_logloss: 0.235452\n",
            "[120]\ttraining's binary_logloss: 0.226957\tvalid_1's binary_logloss: 0.234494\n",
            "[130]\ttraining's binary_logloss: 0.225923\tvalid_1's binary_logloss: 0.233644\n",
            "[140]\ttraining's binary_logloss: 0.225024\tvalid_1's binary_logloss: 0.232895\n",
            "[150]\ttraining's binary_logloss: 0.224235\tvalid_1's binary_logloss: 0.232302\n",
            "[160]\ttraining's binary_logloss: 0.223486\tvalid_1's binary_logloss: 0.231737\n",
            "[170]\ttraining's binary_logloss: 0.222823\tvalid_1's binary_logloss: 0.231261\n",
            "[180]\ttraining's binary_logloss: 0.222224\tvalid_1's binary_logloss: 0.230838\n",
            "[190]\ttraining's binary_logloss: 0.221685\tvalid_1's binary_logloss: 0.23055\n",
            "[200]\ttraining's binary_logloss: 0.221212\tvalid_1's binary_logloss: 0.230316\n",
            "[210]\ttraining's binary_logloss: 0.220747\tvalid_1's binary_logloss: 0.230134\n",
            "[220]\ttraining's binary_logloss: 0.22028\tvalid_1's binary_logloss: 0.230002\n",
            "[230]\ttraining's binary_logloss: 0.219849\tvalid_1's binary_logloss: 0.229821\n",
            "[240]\ttraining's binary_logloss: 0.219465\tvalid_1's binary_logloss: 0.22967\n",
            "[250]\ttraining's binary_logloss: 0.219082\tvalid_1's binary_logloss: 0.229488\n",
            "[260]\ttraining's binary_logloss: 0.218723\tvalid_1's binary_logloss: 0.229332\n",
            "[270]\ttraining's binary_logloss: 0.218386\tvalid_1's binary_logloss: 0.229245\n",
            "[280]\ttraining's binary_logloss: 0.218075\tvalid_1's binary_logloss: 0.229166\n",
            "[290]\ttraining's binary_logloss: 0.217761\tvalid_1's binary_logloss: 0.229141\n",
            "[300]\ttraining's binary_logloss: 0.217404\tvalid_1's binary_logloss: 0.229107\n",
            "[310]\ttraining's binary_logloss: 0.217075\tvalid_1's binary_logloss: 0.229061\n",
            "[320]\ttraining's binary_logloss: 0.21673\tvalid_1's binary_logloss: 0.229083\n",
            "Early stopping, best iteration is:\n",
            "[312]\ttraining's binary_logloss: 0.217008\tvalid_1's binary_logloss: 0.229059\n",
            "Training until validation scores don't improve for 10 rounds.\n",
            "[10]\ttraining's binary_logloss: 0.261136\tvalid_1's binary_logloss: 0.2641\n",
            "[20]\ttraining's binary_logloss: 0.253278\tvalid_1's binary_logloss: 0.257328\n",
            "[30]\ttraining's binary_logloss: 0.247506\tvalid_1's binary_logloss: 0.252468\n",
            "[40]\ttraining's binary_logloss: 0.243046\tvalid_1's binary_logloss: 0.248808\n",
            "[50]\ttraining's binary_logloss: 0.239459\tvalid_1's binary_logloss: 0.245948\n",
            "[60]\ttraining's binary_logloss: 0.236493\tvalid_1's binary_logloss: 0.243598\n",
            "[70]\ttraining's binary_logloss: 0.234016\tvalid_1's binary_logloss: 0.241625\n",
            "[80]\ttraining's binary_logloss: 0.231943\tvalid_1's binary_logloss: 0.240051\n",
            "[90]\ttraining's binary_logloss: 0.230174\tvalid_1's binary_logloss: 0.238769\n",
            "[100]\ttraining's binary_logloss: 0.228661\tvalid_1's binary_logloss: 0.237711\n",
            "[110]\ttraining's binary_logloss: 0.227356\tvalid_1's binary_logloss: 0.236819\n",
            "[120]\ttraining's binary_logloss: 0.226163\tvalid_1's binary_logloss: 0.236096\n",
            "[130]\ttraining's binary_logloss: 0.225086\tvalid_1's binary_logloss: 0.235508\n",
            "[140]\ttraining's binary_logloss: 0.224163\tvalid_1's binary_logloss: 0.235052\n",
            "[150]\ttraining's binary_logloss: 0.223317\tvalid_1's binary_logloss: 0.234599\n",
            "[160]\ttraining's binary_logloss: 0.222502\tvalid_1's binary_logloss: 0.234179\n",
            "[170]\ttraining's binary_logloss: 0.22182\tvalid_1's binary_logloss: 0.233823\n",
            "[180]\ttraining's binary_logloss: 0.221183\tvalid_1's binary_logloss: 0.233551\n",
            "[190]\ttraining's binary_logloss: 0.220609\tvalid_1's binary_logloss: 0.233308\n",
            "[200]\ttraining's binary_logloss: 0.220084\tvalid_1's binary_logloss: 0.23312\n",
            "[210]\ttraining's binary_logloss: 0.219579\tvalid_1's binary_logloss: 0.232966\n",
            "[220]\ttraining's binary_logloss: 0.21909\tvalid_1's binary_logloss: 0.23283\n",
            "[230]\ttraining's binary_logloss: 0.218645\tvalid_1's binary_logloss: 0.232738\n",
            "[240]\ttraining's binary_logloss: 0.218218\tvalid_1's binary_logloss: 0.232621\n",
            "[250]\ttraining's binary_logloss: 0.217813\tvalid_1's binary_logloss: 0.232523\n",
            "[260]\ttraining's binary_logloss: 0.217425\tvalid_1's binary_logloss: 0.232445\n",
            "[270]\ttraining's binary_logloss: 0.217056\tvalid_1's binary_logloss: 0.232439\n",
            "[280]\ttraining's binary_logloss: 0.216718\tvalid_1's binary_logloss: 0.232416\n",
            "[290]\ttraining's binary_logloss: 0.216379\tvalid_1's binary_logloss: 0.232415\n",
            "[300]\ttraining's binary_logloss: 0.216005\tvalid_1's binary_logloss: 0.232396\n",
            "[310]\ttraining's binary_logloss: 0.215653\tvalid_1's binary_logloss: 0.232384\n",
            "[320]\ttraining's binary_logloss: 0.215306\tvalid_1's binary_logloss: 0.232319\n",
            "[330]\ttraining's binary_logloss: 0.21498\tvalid_1's binary_logloss: 0.232299\n",
            "[340]\ttraining's binary_logloss: 0.214674\tvalid_1's binary_logloss: 0.232296\n",
            "Early stopping, best iteration is:\n",
            "[337]\ttraining's binary_logloss: 0.214763\tvalid_1's binary_logloss: 0.232288\n",
            "Training until validation scores don't improve for 10 rounds.\n",
            "[10]\ttraining's binary_logloss: 0.260974\tvalid_1's binary_logloss: 0.265588\n",
            "[20]\ttraining's binary_logloss: 0.253415\tvalid_1's binary_logloss: 0.258139\n",
            "[30]\ttraining's binary_logloss: 0.247848\tvalid_1's binary_logloss: 0.252686\n",
            "[40]\ttraining's binary_logloss: 0.243524\tvalid_1's binary_logloss: 0.248496\n",
            "[50]\ttraining's binary_logloss: 0.240023\tvalid_1's binary_logloss: 0.245054\n",
            "[60]\ttraining's binary_logloss: 0.237149\tvalid_1's binary_logloss: 0.242243\n",
            "[70]\ttraining's binary_logloss: 0.234755\tvalid_1's binary_logloss: 0.239964\n",
            "[80]\ttraining's binary_logloss: 0.232738\tvalid_1's binary_logloss: 0.238152\n",
            "[90]\ttraining's binary_logloss: 0.231004\tvalid_1's binary_logloss: 0.236641\n",
            "[100]\ttraining's binary_logloss: 0.229508\tvalid_1's binary_logloss: 0.235357\n",
            "[110]\ttraining's binary_logloss: 0.228244\tvalid_1's binary_logloss: 0.23426\n",
            "[120]\ttraining's binary_logloss: 0.227117\tvalid_1's binary_logloss: 0.233364\n",
            "[130]\ttraining's binary_logloss: 0.226122\tvalid_1's binary_logloss: 0.232577\n",
            "[140]\ttraining's binary_logloss: 0.225212\tvalid_1's binary_logloss: 0.231826\n",
            "[150]\ttraining's binary_logloss: 0.224426\tvalid_1's binary_logloss: 0.231254\n",
            "[160]\ttraining's binary_logloss: 0.223747\tvalid_1's binary_logloss: 0.230794\n",
            "[170]\ttraining's binary_logloss: 0.22314\tvalid_1's binary_logloss: 0.230428\n",
            "[180]\ttraining's binary_logloss: 0.222584\tvalid_1's binary_logloss: 0.230156\n",
            "[190]\ttraining's binary_logloss: 0.222039\tvalid_1's binary_logloss: 0.229864\n",
            "[200]\ttraining's binary_logloss: 0.221531\tvalid_1's binary_logloss: 0.229591\n",
            "[210]\ttraining's binary_logloss: 0.220997\tvalid_1's binary_logloss: 0.229337\n",
            "[220]\ttraining's binary_logloss: 0.220555\tvalid_1's binary_logloss: 0.229127\n",
            "[230]\ttraining's binary_logloss: 0.220132\tvalid_1's binary_logloss: 0.228995\n",
            "[240]\ttraining's binary_logloss: 0.219716\tvalid_1's binary_logloss: 0.228899\n",
            "[250]\ttraining's binary_logloss: 0.21934\tvalid_1's binary_logloss: 0.228816\n",
            "[260]\ttraining's binary_logloss: 0.218968\tvalid_1's binary_logloss: 0.228708\n",
            "[270]\ttraining's binary_logloss: 0.218629\tvalid_1's binary_logloss: 0.228632\n",
            "[280]\ttraining's binary_logloss: 0.218323\tvalid_1's binary_logloss: 0.228614\n",
            "[290]\ttraining's binary_logloss: 0.217949\tvalid_1's binary_logloss: 0.228565\n",
            "[300]\ttraining's binary_logloss: 0.217547\tvalid_1's binary_logloss: 0.228456\n",
            "[310]\ttraining's binary_logloss: 0.217187\tvalid_1's binary_logloss: 0.228397\n",
            "[320]\ttraining's binary_logloss: 0.21688\tvalid_1's binary_logloss: 0.228366\n",
            "[330]\ttraining's binary_logloss: 0.21658\tvalid_1's binary_logloss: 0.228325\n",
            "[340]\ttraining's binary_logloss: 0.21626\tvalid_1's binary_logloss: 0.228286\n",
            "[350]\ttraining's binary_logloss: 0.215967\tvalid_1's binary_logloss: 0.228267\n",
            "Early stopping, best iteration is:\n",
            "[347]\ttraining's binary_logloss: 0.216055\tvalid_1's binary_logloss: 0.22826\n",
            "Training until validation scores don't improve for 10 rounds.\n",
            "[10]\ttraining's binary_logloss: 0.259394\tvalid_1's binary_logloss: 0.271269\n",
            "[20]\ttraining's binary_logloss: 0.251958\tvalid_1's binary_logloss: 0.263215\n",
            "[30]\ttraining's binary_logloss: 0.246528\tvalid_1's binary_logloss: 0.257375\n",
            "[40]\ttraining's binary_logloss: 0.242315\tvalid_1's binary_logloss: 0.252867\n",
            "[50]\ttraining's binary_logloss: 0.238921\tvalid_1's binary_logloss: 0.249326\n",
            "[60]\ttraining's binary_logloss: 0.236131\tvalid_1's binary_logloss: 0.246467\n",
            "[70]\ttraining's binary_logloss: 0.233779\tvalid_1's binary_logloss: 0.244156\n",
            "[80]\ttraining's binary_logloss: 0.231792\tvalid_1's binary_logloss: 0.242247\n",
            "[90]\ttraining's binary_logloss: 0.230115\tvalid_1's binary_logloss: 0.240719\n",
            "[100]\ttraining's binary_logloss: 0.228663\tvalid_1's binary_logloss: 0.239382\n",
            "[110]\ttraining's binary_logloss: 0.2274\tvalid_1's binary_logloss: 0.238243\n",
            "[120]\ttraining's binary_logloss: 0.226292\tvalid_1's binary_logloss: 0.237295\n",
            "[130]\ttraining's binary_logloss: 0.225321\tvalid_1's binary_logloss: 0.236504\n",
            "[140]\ttraining's binary_logloss: 0.22445\tvalid_1's binary_logloss: 0.235788\n",
            "[150]\ttraining's binary_logloss: 0.223684\tvalid_1's binary_logloss: 0.235207\n",
            "[160]\ttraining's binary_logloss: 0.222986\tvalid_1's binary_logloss: 0.234756\n",
            "[170]\ttraining's binary_logloss: 0.222347\tvalid_1's binary_logloss: 0.234369\n",
            "[180]\ttraining's binary_logloss: 0.221732\tvalid_1's binary_logloss: 0.234025\n",
            "[190]\ttraining's binary_logloss: 0.221209\tvalid_1's binary_logloss: 0.233722\n",
            "[200]\ttraining's binary_logloss: 0.220694\tvalid_1's binary_logloss: 0.233471\n",
            "[210]\ttraining's binary_logloss: 0.220242\tvalid_1's binary_logloss: 0.233209\n",
            "[220]\ttraining's binary_logloss: 0.219726\tvalid_1's binary_logloss: 0.233059\n",
            "[230]\ttraining's binary_logloss: 0.219248\tvalid_1's binary_logloss: 0.232979\n",
            "[240]\ttraining's binary_logloss: 0.218774\tvalid_1's binary_logloss: 0.232842\n",
            "[250]\ttraining's binary_logloss: 0.218323\tvalid_1's binary_logloss: 0.232734\n",
            "[260]\ttraining's binary_logloss: 0.21791\tvalid_1's binary_logloss: 0.232645\n",
            "[270]\ttraining's binary_logloss: 0.217492\tvalid_1's binary_logloss: 0.23252\n",
            "[280]\ttraining's binary_logloss: 0.217092\tvalid_1's binary_logloss: 0.232415\n",
            "[290]\ttraining's binary_logloss: 0.216718\tvalid_1's binary_logloss: 0.232341\n",
            "[300]\ttraining's binary_logloss: 0.216348\tvalid_1's binary_logloss: 0.232322\n",
            "[310]\ttraining's binary_logloss: 0.21599\tvalid_1's binary_logloss: 0.232317\n",
            "Early stopping, best iteration is:\n",
            "[305]\ttraining's binary_logloss: 0.216172\tvalid_1's binary_logloss: 0.232308\n"
          ],
          "name": "stdout"
        }
      ]
    },
    {
      "cell_type": "code",
      "metadata": {
        "id": "I5CDQs-5cCFT",
        "colab_type": "code",
        "colab": {
          "base_uri": "https://localhost:8080/",
          "height": 71
        },
        "outputId": "ba8a7ee5-2cd9-4eef-c69f-d14415e6fbe8"
      },
      "source": [
        "#pd.DataFrame(oof_train).to_csv('oof_train_kfold.csv', index=False)\n",
        "\n",
        "scores = [\n",
        "    m.best_score['valid_1']['binary_logloss'] for m in models\n",
        "]\n",
        "score = sum(scores) / len(scores)\n",
        "print('===CV scores===')\n",
        "print(scores)\n",
        "print(score)"
      ],
      "execution_count": 72,
      "outputs": [
        {
          "output_type": "stream",
          "text": [
            "===CV scores===\n",
            "[0.21807171488284322, 0.22905937126152875, 0.23228758032599517, 0.2282601283603254, 0.2323082736079079]\n",
            "0.22799741368772009\n"
          ],
          "name": "stdout"
        }
      ]
    },
    {
      "cell_type": "code",
      "metadata": {
        "id": "jmrw1RYbQ439",
        "colab_type": "code",
        "colab": {
          "base_uri": "https://localhost:8080/",
          "height": 35
        },
        "outputId": "e89eaf75-b220-46aa-b18e-7c9e94738fc9"
      },
      "source": [
        "from sklearn.metrics import accuracy_score\n",
        "percentage=0.5\n",
        "\n",
        "y_pred_oof = (oof_train > percentage).astype(int)\n",
        "accuracy_score(y_train, y_pred_oof)"
      ],
      "execution_count": 77,
      "outputs": [
        {
          "output_type": "execute_result",
          "data": {
            "text/plain": [
              "0.9291512915129151"
            ]
          },
          "metadata": {
            "tags": []
          },
          "execution_count": 77
        }
      ]
    },
    {
      "cell_type": "code",
      "metadata": {
        "id": "lR9xkS3cctBH",
        "colab_type": "code",
        "colab": {
          "base_uri": "https://localhost:8080/",
          "height": 35
        },
        "outputId": "a98e5331-25e9-49bf-c579-a9ba35c06d69"
      },
      "source": [
        "y_sub = sum(y_preds) / len(y_preds)\n",
        "y_sub = (y_sub > percentage).astype(int)\n",
        "\n",
        "\n",
        "sub['B'] = y_sub\n",
        "sub.to_csv('submission_lightgbm_kfold.csv', index=False, header=False)\n",
        "\n",
        "sum(sub[\"B\"]),len(sub[\"B\"])"
      ],
      "execution_count": 78,
      "outputs": [
        {
          "output_type": "execute_result",
          "data": {
            "text/plain": [
              "(226, 18050)"
            ]
          },
          "metadata": {
            "tags": []
          },
          "execution_count": 78
        }
      ]
    },
    {
      "cell_type": "code",
      "metadata": {
        "id": "eC8yxqMqekLU",
        "colab_type": "code",
        "colab": {
          "base_uri": "https://localhost:8080/",
          "height": 415
        },
        "outputId": "9c87bba8-5c1b-4024-a10c-58867d1c0a9e"
      },
      "source": [
        "sub"
      ],
      "execution_count": 79,
      "outputs": [
        {
          "output_type": "execute_result",
          "data": {
            "text/html": [
              "<div>\n",
              "<style scoped>\n",
              "    .dataframe tbody tr th:only-of-type {\n",
              "        vertical-align: middle;\n",
              "    }\n",
              "\n",
              "    .dataframe tbody tr th {\n",
              "        vertical-align: top;\n",
              "    }\n",
              "\n",
              "    .dataframe thead th {\n",
              "        text-align: right;\n",
              "    }\n",
              "</style>\n",
              "<table border=\"1\" class=\"dataframe\">\n",
              "  <thead>\n",
              "    <tr style=\"text-align: right;\">\n",
              "      <th></th>\n",
              "      <th>A</th>\n",
              "      <th>B</th>\n",
              "    </tr>\n",
              "  </thead>\n",
              "  <tbody>\n",
              "    <tr>\n",
              "      <th>0</th>\n",
              "      <td>0</td>\n",
              "      <td>1</td>\n",
              "    </tr>\n",
              "    <tr>\n",
              "      <th>1</th>\n",
              "      <td>1</td>\n",
              "      <td>0</td>\n",
              "    </tr>\n",
              "    <tr>\n",
              "      <th>2</th>\n",
              "      <td>2</td>\n",
              "      <td>0</td>\n",
              "    </tr>\n",
              "    <tr>\n",
              "      <th>3</th>\n",
              "      <td>3</td>\n",
              "      <td>0</td>\n",
              "    </tr>\n",
              "    <tr>\n",
              "      <th>4</th>\n",
              "      <td>4</td>\n",
              "      <td>0</td>\n",
              "    </tr>\n",
              "    <tr>\n",
              "      <th>...</th>\n",
              "      <td>...</td>\n",
              "      <td>...</td>\n",
              "    </tr>\n",
              "    <tr>\n",
              "      <th>18045</th>\n",
              "      <td>18045</td>\n",
              "      <td>0</td>\n",
              "    </tr>\n",
              "    <tr>\n",
              "      <th>18046</th>\n",
              "      <td>18046</td>\n",
              "      <td>0</td>\n",
              "    </tr>\n",
              "    <tr>\n",
              "      <th>18047</th>\n",
              "      <td>18047</td>\n",
              "      <td>0</td>\n",
              "    </tr>\n",
              "    <tr>\n",
              "      <th>18048</th>\n",
              "      <td>18048</td>\n",
              "      <td>0</td>\n",
              "    </tr>\n",
              "    <tr>\n",
              "      <th>18049</th>\n",
              "      <td>18049</td>\n",
              "      <td>0</td>\n",
              "    </tr>\n",
              "  </tbody>\n",
              "</table>\n",
              "<p>18050 rows × 2 columns</p>\n",
              "</div>"
            ],
            "text/plain": [
              "           A  B\n",
              "0          0  1\n",
              "1          1  0\n",
              "2          2  0\n",
              "3          3  0\n",
              "4          4  0\n",
              "...      ... ..\n",
              "18045  18045  0\n",
              "18046  18046  0\n",
              "18047  18047  0\n",
              "18048  18048  0\n",
              "18049  18049  0\n",
              "\n",
              "[18050 rows x 2 columns]"
            ]
          },
          "metadata": {
            "tags": []
          },
          "execution_count": 79
        }
      ]
    },
    {
      "cell_type": "markdown",
      "metadata": {
        "id": "GmaDTHcN6QmD",
        "colab_type": "text"
      },
      "source": [
        "-----ここまでcross validation-------"
      ]
    },
    {
      "cell_type": "code",
      "metadata": {
        "id": "OerCau2kc14C",
        "colab_type": "code",
        "colab": {
          "base_uri": "https://localhost:8080/",
          "height": 17
        },
        "outputId": "5597fd5d-9076-40a4-aaa9-4f1582cafc73"
      },
      "source": [
        "files.download('submission_lightgbm_kfold.csv')"
      ],
      "execution_count": 80,
      "outputs": [
        {
          "output_type": "display_data",
          "data": {
            "application/javascript": [
              "\n",
              "    async function download(id, filename, size) {\n",
              "      if (!google.colab.kernel.accessAllowed) {\n",
              "        return;\n",
              "      }\n",
              "      const div = document.createElement('div');\n",
              "      const label = document.createElement('label');\n",
              "      label.textContent = `Downloading \"${filename}\": `;\n",
              "      div.appendChild(label);\n",
              "      const progress = document.createElement('progress');\n",
              "      progress.max = size;\n",
              "      div.appendChild(progress);\n",
              "      document.body.appendChild(div);\n",
              "\n",
              "      const buffers = [];\n",
              "      let downloaded = 0;\n",
              "\n",
              "      const channel = await google.colab.kernel.comms.open(id);\n",
              "      // Send a message to notify the kernel that we're ready.\n",
              "      channel.send({})\n",
              "\n",
              "      for await (const message of channel.messages) {\n",
              "        // Send a message to notify the kernel that we're ready.\n",
              "        channel.send({})\n",
              "        if (message.buffers) {\n",
              "          for (const buffer of message.buffers) {\n",
              "            buffers.push(buffer);\n",
              "            downloaded += buffer.byteLength;\n",
              "            progress.value = downloaded;\n",
              "          }\n",
              "        }\n",
              "      }\n",
              "      const blob = new Blob(buffers, {type: 'application/binary'});\n",
              "      const a = document.createElement('a');\n",
              "      a.href = window.URL.createObjectURL(blob);\n",
              "      a.download = filename;\n",
              "      div.appendChild(a);\n",
              "      a.click();\n",
              "      div.remove();\n",
              "    }\n",
              "  "
            ],
            "text/plain": [
              "<IPython.core.display.Javascript object>"
            ]
          },
          "metadata": {
            "tags": []
          }
        },
        {
          "output_type": "display_data",
          "data": {
            "application/javascript": [
              "download(\"download_c79b7a86-c7d1-4797-afee-fe6f669f0c18\", \"submission_lightgbm_kfold.csv\", 133290)"
            ],
            "text/plain": [
              "<IPython.core.display.Javascript object>"
            ]
          },
          "metadata": {
            "tags": []
          }
        }
      ]
    },
    {
      "cell_type": "code",
      "metadata": {
        "id": "7qld4Mz86Pn4",
        "colab_type": "code",
        "colab": {}
      },
      "source": [
        ""
      ],
      "execution_count": 80,
      "outputs": []
    },
    {
      "cell_type": "code",
      "metadata": {
        "id": "2WfLN2u_6PrL",
        "colab_type": "code",
        "colab": {}
      },
      "source": [
        ""
      ],
      "execution_count": 80,
      "outputs": []
    }
  ]
}